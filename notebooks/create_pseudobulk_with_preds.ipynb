{
 "cells": [
  {
   "cell_type": "code",
   "id": "initial_id",
   "metadata": {
    "collapsed": true,
    "ExecuteTime": {
     "end_time": "2024-10-30T16:18:02.990472Z",
     "start_time": "2024-10-30T16:18:02.988612Z"
    }
   },
   "source": [
    "import anndata as ad\n",
    "import pandas as pd\n",
    "import numpy as np\n",
    "from scipy import sparse"
   ],
   "outputs": [],
   "execution_count": 31
  },
  {
   "metadata": {
    "ExecuteTime": {
     "end_time": "2024-10-30T15:59:36.287554Z",
     "start_time": "2024-10-30T15:59:36.145481Z"
    }
   },
   "cell_type": "code",
   "source": "!ls -lh ../../data/neurips-2023-data",
   "id": "1c8491b527c9f6c2",
   "outputs": [
    {
     "name": "stdout",
     "output_type": "stream",
     "text": [
      "total 4331736\r\n",
      "-rw-r--r--@ 1 arturszalata  staff   316M May 18 01:14 de_per_donor.h5ad\r\n",
      "-rw-r--r--@ 1 arturszalata  staff   253M May 17 14:34 de_per_donor_old.h5ad\r\n",
      "-rw-r--r--@ 1 arturszalata  staff    16M May 17 14:51 de_per_donor_test.h5ad\r\n",
      "-rw-r--r--@ 1 arturszalata  staff   104M Oct 18 08:27 de_test.h5ad\r\n",
      "-rw-r--r--@ 1 arturszalata  staff   175M Oct 18 08:27 de_train.h5ad\r\n",
      "-rw-r--r--@ 1 arturszalata  staff   3.8K Oct 18 08:27 id_map.csv\r\n",
      "-rw-r--r--@ 1 arturszalata  staff   3.5M Oct 18 08:27 prediction.h5ad\r\n",
      "-rw-r--r--  1 arturszalata  staff    44M May 17 14:20 pseudobulk_cleaned.h5ad\r\n",
      "-rw-r--r--@ 1 arturszalata  staff   100M Oct 18 08:27 pseudobulk_filtered_with_uns.h5ad\r\n",
      "-rw-r--r--@ 1 arturszalata  staff   180M Oct 18 08:27 sc_test.h5ad\r\n",
      "-rw-r--r--@ 1 arturszalata  staff   883M Oct 18 08:27 sc_train.h5ad\r\n",
      "-rw-r--r--@ 1 arturszalata  staff    22K Oct 18 08:29 score.h5ad\r\n",
      "-rw-r--r--@ 1 arturszalata  staff    40M May 16 20:08 small_pseudobulk.h5ad\r\n",
      "-rw-r--r--@ 1 arturszalata  staff   254B Oct 18 08:29 state.yaml\r\n"
     ]
    }
   ],
   "execution_count": 6
  },
  {
   "metadata": {
    "ExecuteTime": {
     "end_time": "2024-10-30T16:00:46.193730Z",
     "start_time": "2024-10-30T16:00:45.058799Z"
    }
   },
   "cell_type": "code",
   "source": [
    "# load original pseudobulk\n",
    "pseudobulk = ad.read_h5ad(\"../../data/neurips-2023-data/pseudobulk_filtered_with_uns.h5ad\")"
   ],
   "id": "1179af4f75ed07c",
   "outputs": [],
   "execution_count": 7
  },
  {
   "metadata": {
    "ExecuteTime": {
     "end_time": "2024-10-30T16:01:14.218609Z",
     "start_time": "2024-10-30T16:01:14.183938Z"
    }
   },
   "cell_type": "code",
   "source": "preds = ad.read_h5ad(\"../../data/neurips-2023-data/prediction.h5ad\")",
   "id": "b35c5a87c0ce773e",
   "outputs": [],
   "execution_count": 9
  },
  {
   "metadata": {
    "ExecuteTime": {
     "end_time": "2024-10-30T15:58:48.793860Z",
     "start_time": "2024-10-30T15:58:48.634676Z"
    }
   },
   "cell_type": "code",
   "source": "!ls ../../data/perturbench_data",
   "id": "67f53b3110f21147",
   "outputs": [
    {
     "name": "stdout",
     "output_type": "stream",
     "text": [
      "\u001B[1m\u001B[36mlogs\u001B[m\u001B[m                        op3_processed_train.h5ad\r\n",
      "op3_processed.h5ad          sciplex3_processed.h5ad\r\n",
      "op3_processed_test.h5ad     srivatsan20_downloaded.h5ad\r\n"
     ]
    }
   ],
   "execution_count": 2
  },
  {
   "metadata": {
    "ExecuteTime": {
     "end_time": "2024-10-30T15:58:49.059603Z",
     "start_time": "2024-10-30T15:58:48.933079Z"
    }
   },
   "cell_type": "code",
   "source": "!ls ../../data/perturbench_data/logs/predict/runs/2024-10-30_15-47-50/predictions/",
   "id": "2e4b69550cfd69be",
   "outputs": [
    {
     "name": "stdout",
     "output_type": "stream",
     "text": [
      "prediction_chunk_0.h5ad prediction_chunk_2.h5ad\r\n",
      "prediction_chunk_1.h5ad prediction_chunk_3.h5ad\r\n"
     ]
    }
   ],
   "execution_count": 3
  },
  {
   "metadata": {
    "ExecuteTime": {
     "end_time": "2024-10-30T16:11:03.308582Z",
     "start_time": "2024-10-30T16:11:03.306659Z"
    }
   },
   "cell_type": "code",
   "source": "path_to_output = \"../../data/perturbench_data/logs/predict/runs/2024-10-30_15-47-50/predictions/\"",
   "id": "6c0e9e22b0867e1a",
   "outputs": [],
   "execution_count": 17
  },
  {
   "metadata": {
    "ExecuteTime": {
     "end_time": "2024-10-30T16:11:06.744588Z",
     "start_time": "2024-10-30T16:11:04.073831Z"
    }
   },
   "cell_type": "code",
   "source": [
    "# Load each chunk and store in a list\n",
    "chunk_files = [f\"{path_to_output}prediction_chunk_{i}.h5ad\" for i in range(4)]\n",
    "chunks = [ad.read_h5ad(chunk_file) for chunk_file in chunk_files]\n",
    "combined_adata = ad.concat(chunks, axis=0)\n",
    "del chunks"
   ],
   "id": "24ab324bc538edcb",
   "outputs": [
    {
     "name": "stderr",
     "output_type": "stream",
     "text": [
      "/Users/arturszalata/miniconda3/envs/perturbench/lib/python3.10/site-packages/anndata/_core/anndata.py:1754: UserWarning: Observation names are not unique. To make them unique, call `.obs_names_make_unique`.\n",
      "  utils.warn_names_duplicates(\"obs\")\n"
     ]
    }
   ],
   "execution_count": 18
  },
  {
   "metadata": {
    "ExecuteTime": {
     "end_time": "2024-10-30T16:16:47.324452Z",
     "start_time": "2024-10-30T16:16:47.320597Z"
    }
   },
   "cell_type": "code",
   "source": "combined_adata.obs.rename(columns={\"condition\": \"sm_name\"}, inplace=True)",
   "id": "6c6da68e38f41e75",
   "outputs": [],
   "execution_count": 27
  },
  {
   "metadata": {
    "ExecuteTime": {
     "end_time": "2024-10-30T16:21:09.861524Z",
     "start_time": "2024-10-30T16:21:09.816238Z"
    }
   },
   "cell_type": "code",
   "source": "combined_adata.obs[\"sm_cell_type\"] = combined_adata.obs[\"sm_name\"].astype(str) + \"_\" + combined_adata.obs[\"cell_type\"].astype(str)",
   "id": "e7a6d8dd11384307",
   "outputs": [],
   "execution_count": 33
  },
  {
   "metadata": {
    "ExecuteTime": {
     "end_time": "2024-10-30T16:23:04.093664Z",
     "start_time": "2024-10-30T16:23:04.083082Z"
    }
   },
   "cell_type": "code",
   "source": "combined_adata.obs[\"sm_cell_type\"] = combined_adata.obs[\"sm_cell_type\"].astype(\"category\")",
   "id": "b3164c40a36707d3",
   "outputs": [],
   "execution_count": 35
  },
  {
   "metadata": {
    "ExecuteTime": {
     "end_time": "2024-10-30T16:23:18.851835Z",
     "start_time": "2024-10-30T16:23:04.613567Z"
    }
   },
   "cell_type": "code",
   "source": [
    "def sum_by(adata: ad.AnnData, col: str) -> ad.AnnData:\n",
    "    \"\"\"\n",
    "    Adapted from this forum post:\n",
    "    https://discourse.scverse.org/t/group-sum-rows-based-on-jobs-feature/371/4\n",
    "    \"\"\"\n",
    "\n",
    "    # assert pd.api.types.is_categorical_dtype(adata.obs[col])\n",
    "    assert isinstance(adata.obs[col].dtypes, pd.CategoricalDtype)\n",
    "\n",
    "    # sum `.X` entries for each unique value in `col`\n",
    "    cat = adata.obs[col].values\n",
    "    indicator = sparse.coo_matrix(\n",
    "        (\n",
    "            np.broadcast_to(True, adata.n_obs),\n",
    "            (cat.codes, np.arange(adata.n_obs))\n",
    "        ),\n",
    "        shape=(len(cat.categories), adata.n_obs),\n",
    "    )\n",
    "    sum_adata = ad.AnnData(\n",
    "        var=adata.var,\n",
    "        obs=pd.DataFrame(index=cat.categories),\n",
    "    )\n",
    "    if adata.X is not None:\n",
    "        sum_adata.X = indicator @ adata.X\n",
    "    for layer in adata.layers:\n",
    "        sum_adata.layers[layer] = indicator @ adata.layers[layer]\n",
    "\n",
    "    # copy over `.obs` values that have a one-to-one-mapping with `.obs[col]`\n",
    "    obs_cols = list(set(adata.obs.columns) - set([col]))\n",
    "\n",
    "    one_to_one_mapped_obs_cols = []\n",
    "    nunique_in_col = adata.obs[col].nunique()\n",
    "    for other_col in obs_cols:\n",
    "        if len(adata.obs[[col, other_col]].drop_duplicates()) == nunique_in_col:\n",
    "            one_to_one_mapped_obs_cols.append(other_col)\n",
    "\n",
    "    joining_df = adata.obs[[col] + one_to_one_mapped_obs_cols].drop_duplicates().set_index(col)\n",
    "    assert (sum_adata.obs.index == sum_adata.obs.join(joining_df).index).all()\n",
    "    sum_adata.obs = sum_adata.obs.join(joining_df)\n",
    "    sum_adata.obs.index.name = col\n",
    "    sum_adata.obs = sum_adata.obs.reset_index()\n",
    "    sum_adata.obs.index = sum_adata.obs.index.astype('str')\n",
    "\n",
    "    return sum_adata\n",
    "\n",
    "print(\">> Create pseudobulk dataset\", flush=True)\n",
    "bulk_adata = sum_by(combined_adata, 'sm_cell_type')"
   ],
   "id": "9802be7a16a04682",
   "outputs": [
    {
     "name": "stdout",
     "output_type": "stream",
     "text": [
      ">> Create pseudobulk dataset\n"
     ]
    }
   ],
   "execution_count": 36
  },
  {
   "metadata": {
    "ExecuteTime": {
     "end_time": "2024-10-30T16:31:41.446783Z",
     "start_time": "2024-10-30T16:31:41.427367Z"
    }
   },
   "cell_type": "code",
   "source": "pseudobulk[pseudobulk.obs.sm_cell_type.isin(bulk_adata.obs.sm_cell_type.unique())].X[:10, :10].A",
   "id": "6fbd287be5c4f04f",
   "outputs": [
    {
     "data": {
      "text/plain": [
       "array([[  1.,  27.,  13.,  27.,  27.,  13.,  18.,  32.,  64.,  18.],\n",
       "       [119.,  73.,  24.,  76.,  97.,   2.,  23., 194., 187.,  13.],\n",
       "       [  1.,  34.,   9.,  35.,  40.,  15.,  18.,  37.,  65.,  10.],\n",
       "       [141., 120.,  31., 100., 135.,   3.,  33., 218., 305.,  30.],\n",
       "       [  1.,  14.,   6.,  22.,  11.,   7.,   7.,  24.,  30.,   6.],\n",
       "       [ 45.,  29.,   7.,  39.,  44.,   0.,   3.,  65.,  67.,  10.],\n",
       "       [  2.,  16.,   9.,  15.,  18.,   3.,   8.,  28.,  39.,  10.],\n",
       "       [106.,  56.,  27.,  69.,  72.,   0.,  20., 148., 179.,  17.],\n",
       "       [  3.,  17.,  12.,  21.,  25.,   6.,  11.,  27.,  31.,   9.],\n",
       "       [ 81.,  58.,  20.,  51.,  72.,   1.,  18., 119., 146.,  13.]])"
      ]
     },
     "execution_count": 49,
     "metadata": {},
     "output_type": "execute_result"
    }
   ],
   "execution_count": 49
  },
  {
   "metadata": {
    "ExecuteTime": {
     "end_time": "2024-10-30T16:42:28.505916Z",
     "start_time": "2024-10-30T16:42:24.966529Z"
    }
   },
   "cell_type": "code",
   "source": [
    "# Identify the matching cell types\n",
    "matching_cell_types = set(pseudobulk.obs[\"sm_cell_type\"].unique()).intersection(bulk_adata.obs[\"sm_cell_type\"].unique())\n",
    "print(\"Number of matching cell types:\", len(matching_cell_types))\n",
    "\n",
    "# Create a mask for matching sm_cell_types\n",
    "mask_matching = pseudobulk.obs[\"sm_cell_type\"].isin(matching_cell_types)\n",
    "\n",
    "# Create a mask for duplicates in pseudobulk based on sm_cell_type\n",
    "mask_duplicates = pseudobulk.obs.duplicated(subset=[\"sm_cell_type\"], keep=\"first\")\n",
    "\n",
    "# Create a mask to identify duplicates only in matching sm_cell_types\n",
    "mask_to_drop = mask_matching & mask_duplicates\n",
    "\n",
    "# Drop duplicates in pseudobulk for matching sm_cell_types\n",
    "pseudobulk = pseudobulk[~mask_to_drop].copy()\n",
    "\n",
    "# Update the index after dropping duplicates\n",
    "pseudobulk.obs.reset_index(drop=True, inplace=True)\n",
    "\n",
    "# Replace values in pseudobulk.X for the matching sm_cell_type entries\n",
    "for cell_type in matching_cell_types:\n",
    "    # Get boolean masks for the cell type\n",
    "    pseudobulk_mask = pseudobulk.obs[\"sm_cell_type\"] == cell_type\n",
    "    bulk_mask = bulk_adata.obs[\"sm_cell_type\"] == cell_type\n",
    "\n",
    "    # Get the integer positions of the entries\n",
    "    pseudobulk_pos = np.where(pseudobulk_mask)[0][0]\n",
    "    bulk_pos = np.where(bulk_mask)[0][0]\n",
    "\n",
    "    # Replace the pseudobulk entry with the corresponding bulk_adata values\n",
    "    pseudobulk.X[pseudobulk_pos] = bulk_adata.X[bulk_pos]"
   ],
   "id": "d2be403e09b2ced2",
   "outputs": [
    {
     "name": "stdout",
     "output_type": "stream",
     "text": [
      "Number of matching cell types: 151\n"
     ]
    },
    {
     "name": "stderr",
     "output_type": "stream",
     "text": [
      "/Users/arturszalata/miniconda3/envs/perturbench/lib/python3.10/site-packages/anndata/_core/aligned_df.py:68: ImplicitModificationWarning: Transforming to str index.\n",
      "  warnings.warn(\"Transforming to str index.\", ImplicitModificationWarning)\n",
      "/Users/arturszalata/miniconda3/envs/perturbench/lib/python3.10/site-packages/scipy/sparse/_index.py:145: SparseEfficiencyWarning: Changing the sparsity structure of a csr_matrix is expensive. lil_matrix is more efficient.\n",
      "  self._set_arrayXarray(i, j, x)\n"
     ]
    }
   ],
   "execution_count": 51
  },
  {
   "metadata": {
    "ExecuteTime": {
     "end_time": "2024-10-30T16:47:28.074399Z",
     "start_time": "2024-10-30T16:47:27.615034Z"
    }
   },
   "cell_type": "code",
   "source": "pseudobulk.write_h5ad(\"../../data/neurips-2023-data/pseudobulk_with_preds.h5ad\")",
   "id": "672906cd30e65d42",
   "outputs": [],
   "execution_count": 57
  },
  {
   "metadata": {
    "ExecuteTime": {
     "end_time": "2024-10-30T17:05:28.260276Z",
     "start_time": "2024-10-30T17:05:28.256071Z"
    }
   },
   "cell_type": "code",
   "source": "pseudobulk.obs.split.unique()",
   "id": "ac878c09aeab6343",
   "outputs": [
    {
     "data": {
      "text/plain": [
       "['private_test', 'train', 'public_test', 'control']\n",
       "Categories (4, object): ['control', 'private_test', 'public_test', 'train']"
      ]
     },
     "execution_count": 60,
     "metadata": {},
     "output_type": "execute_result"
    }
   ],
   "execution_count": 60
  },
  {
   "metadata": {},
   "cell_type": "code",
   "outputs": [],
   "execution_count": null,
   "source": "",
   "id": "8b006b38ff2e87b6"
  }
 ],
 "metadata": {
  "kernelspec": {
   "display_name": "perturbench",
   "language": "python",
   "name": "perturbench"
  },
  "language_info": {
   "codemirror_mode": {
    "name": "ipython",
    "version": 2
   },
   "file_extension": ".py",
   "mimetype": "text/x-python",
   "name": "python",
   "nbconvert_exporter": "python",
   "pygments_lexer": "ipython2",
   "version": "2.7.6"
  }
 },
 "nbformat": 4,
 "nbformat_minor": 5
}

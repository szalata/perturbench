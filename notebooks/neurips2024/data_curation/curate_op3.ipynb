{
 "cells": [
  {
   "metadata": {
    "ExecuteTime": {
     "end_time": "2024-10-29T22:41:18.215732Z",
     "start_time": "2024-10-29T22:41:18.094768Z"
    }
   },
   "cell_type": "code",
   "source": [
    "import scanpy as sc\n",
    "import anndata as ad\n",
    "from perturbench.analysis.preprocess import preprocess\n",
    "\n",
    "%reload_ext autoreload\n",
    "%autoreload 2\n",
    "data_cache_dir = '../../../../data/perturbench_data'"
   ],
   "id": "41297b028086285d",
   "outputs": [],
   "execution_count": 44
  },
  {
   "metadata": {
    "ExecuteTime": {
     "end_time": "2024-10-29T22:41:32.290280Z",
     "start_time": "2024-10-29T22:41:19.819678Z"
    }
   },
   "cell_type": "code",
   "source": [
    "op3_data_path = '../../../../data/neurips-2023-data/'\n",
    "sc_train_h5ad = sc.read_h5ad(op3_data_path + 'sc_train.h5ad')\n",
    "sc_test_h5ad = sc.read_h5ad(op3_data_path + 'sc_test.h5ad')"
   ],
   "id": "7f54c49bb1783045",
   "outputs": [],
   "execution_count": 45
  },
  {
   "metadata": {
    "ExecuteTime": {
     "end_time": "2024-10-29T22:41:35.213534Z",
     "start_time": "2024-10-29T22:41:32.296542Z"
    }
   },
   "cell_type": "code",
   "source": "adata = ad.concat([sc_train_h5ad, sc_test_h5ad], axis=0)",
   "id": "b5d64d03f03a3286",
   "outputs": [],
   "execution_count": 46
  },
  {
   "metadata": {
    "ExecuteTime": {
     "end_time": "2024-10-29T22:41:35.374598Z",
     "start_time": "2024-10-29T22:41:35.248041Z"
    }
   },
   "cell_type": "code",
   "source": [
    "adata.obs['perturbation_type'] = 'drug'\n",
    "adata.obs['dataset'] = 'op3'\n",
    "adata.obs['treatment'] = 'none'\n",
    "adata.obs['condition'] = adata.obs['sm_name'].copy()"
   ],
   "id": "adb8f5b1545c8b1e",
   "outputs": [],
   "execution_count": 47
  },
  {
   "metadata": {
    "ExecuteTime": {
     "end_time": "2024-10-29T22:41:35.490385Z",
     "start_time": "2024-10-29T22:41:35.396824Z"
    }
   },
   "cell_type": "code",
   "source": "adata.obs[\"dose\"] = adata.obs.dose_uM",
   "id": "b37667abdb3a2c1f",
   "outputs": [],
   "execution_count": 48
  },
  {
   "metadata": {
    "ExecuteTime": {
     "end_time": "2024-10-29T22:41:35.619800Z",
     "start_time": "2024-10-29T22:41:35.517698Z"
    }
   },
   "cell_type": "code",
   "source": "adata.obs['dose_unit'] = 'uM'",
   "id": "5a60169d120c238e",
   "outputs": [],
   "execution_count": 49
  },
  {
   "metadata": {
    "ExecuteTime": {
     "end_time": "2024-10-29T22:41:35.741477Z",
     "start_time": "2024-10-29T22:41:35.642438Z"
    }
   },
   "cell_type": "code",
   "source": "adata.obs['condition'].replace(\"Dimethyl Sulfoxide\", \"control\", inplace=True)",
   "id": "5a5e0a34f09da572",
   "outputs": [],
   "execution_count": 50
  },
  {
   "metadata": {
    "ExecuteTime": {
     "end_time": "2024-10-29T22:41:45.060391Z",
     "start_time": "2024-10-29T22:41:35.764963Z"
    }
   },
   "cell_type": "code",
   "source": [
    "adata = preprocess(\n",
    "    adata,\n",
    "    perturbation_key='condition',\n",
    "    covariate_keys=['cell_type']\n",
    ")"
   ],
   "id": "b22323d25eacad26",
   "outputs": [
    {
     "name": "stdout",
     "output_type": "stream",
     "text": [
      "Preprocessing ...\n",
      "Processed dataset summary:\n",
      "AnnData object with n_obs × n_vars = 296102 × 5317\n",
      "    obs: 'dose_uM', 'timepoint_hr', 'well', 'row', 'col', 'plate_name', 'cell_type', 'split', 'donor_id', 'sm_name', 'control', 'SMILES', 'sm_lincs_id', 'library_id', 'plate_well_celltype_reannotated', 'cell_count_by_well_celltype', 'cell_count_by_plate_well', 'sm_cell_type', 'perturbation_type', 'dataset', 'treatment', 'condition', 'dose', 'dose_unit', 'cov_merged'\n",
      "    uns: 'log1p'\n",
      "    layers: 'counts'\n"
     ]
    }
   ],
   "execution_count": 51
  },
  {
   "metadata": {
    "ExecuteTime": {
     "end_time": "2024-10-29T22:51:49.177051Z",
     "start_time": "2024-10-29T22:51:10.389105Z"
    }
   },
   "cell_type": "code",
   "source": [
    "output_data_path_train = f'{data_cache_dir}/op3_processed_train.h5ad'\n",
    "output_data_path_test = f'{data_cache_dir}/op3_processed_test.h5ad'\n",
    "adata[adata.obs.split == \"train\"].write_h5ad(output_data_path_train)\n",
    "adata[adata.obs.split == \"test\"].write_h5ad(output_data_path_test)\n",
    "output_data_path_all = f'{data_cache_dir}/op3_processed.h5ad'\n",
    "adata.write_h5ad(output_data_path_all)"
   ],
   "id": "5b6aa8d499792432",
   "outputs": [
    {
     "name": "stderr",
     "output_type": "stream",
     "text": [
      "/Users/arturszalata/miniconda3/envs/perturbench/lib/python3.10/site-packages/anndata/_core/anndata.py:1145: ImplicitModificationWarning: Trying to modify attribute `.obs` of view, initializing view as actual.\n",
      "  df[key] = c\n",
      "/Users/arturszalata/miniconda3/envs/perturbench/lib/python3.10/site-packages/anndata/_core/anndata.py:1145: ImplicitModificationWarning: Trying to modify attribute `.obs` of view, initializing view as actual.\n",
      "  df[key] = c\n",
      "/Users/arturszalata/miniconda3/envs/perturbench/lib/python3.10/site-packages/anndata/_core/anndata.py:1145: ImplicitModificationWarning: Trying to modify attribute `.obs` of view, initializing view as actual.\n",
      "  df[key] = c\n",
      "/Users/arturszalata/miniconda3/envs/perturbench/lib/python3.10/site-packages/anndata/_core/anndata.py:1145: ImplicitModificationWarning: Trying to modify attribute `.obs` of view, initializing view as actual.\n",
      "  df[key] = c\n",
      "/Users/arturszalata/miniconda3/envs/perturbench/lib/python3.10/site-packages/anndata/_core/anndata.py:1145: ImplicitModificationWarning: Trying to modify attribute `.obs` of view, initializing view as actual.\n",
      "  df[key] = c\n",
      "/Users/arturszalata/miniconda3/envs/perturbench/lib/python3.10/site-packages/anndata/_core/anndata.py:1145: ImplicitModificationWarning: Trying to modify attribute `.obs` of view, initializing view as actual.\n",
      "  df[key] = c\n",
      "/Users/arturszalata/miniconda3/envs/perturbench/lib/python3.10/site-packages/anndata/_core/anndata.py:1145: ImplicitModificationWarning: Trying to modify attribute `.obs` of view, initializing view as actual.\n",
      "  df[key] = c\n",
      "/Users/arturszalata/miniconda3/envs/perturbench/lib/python3.10/site-packages/anndata/_core/anndata.py:1145: ImplicitModificationWarning: Trying to modify attribute `.obs` of view, initializing view as actual.\n",
      "  df[key] = c\n"
     ]
    }
   ],
   "execution_count": 56
  },
  {
   "metadata": {},
   "cell_type": "code",
   "outputs": [],
   "execution_count": null,
   "source": "",
   "id": "67732a9e7771a33c"
  }
 ],
 "metadata": {
  "kernelspec": {
   "display_name": "perturbench",
   "language": "python",
   "name": "perturbench"
  },
  "language_info": {
   "codemirror_mode": {
    "name": "ipython",
    "version": 2
   },
   "file_extension": ".py",
   "mimetype": "text/x-python",
   "name": "python",
   "nbconvert_exporter": "python",
   "pygments_lexer": "ipython2",
   "version": "2.7.6"
  }
 },
 "nbformat": 4,
 "nbformat_minor": 5
}

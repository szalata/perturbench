{
 "cells": [
  {
   "cell_type": "code",
   "id": "initial_id",
   "metadata": {
    "collapsed": true,
    "ExecuteTime": {
     "end_time": "2024-10-30T19:13:32.973660Z",
     "start_time": "2024-10-30T19:13:31.133261Z"
    }
   },
   "source": [
    "import anndata as ad\n",
    "from mpmath import zeros"
   ],
   "outputs": [],
   "execution_count": 1
  },
  {
   "metadata": {
    "ExecuteTime": {
     "end_time": "2024-10-30T19:13:45.541532Z",
     "start_time": "2024-10-30T19:13:44.063238Z"
    }
   },
   "cell_type": "code",
   "source": "de_test_pred = ad.read_h5ad(\"../../data/neurips-2023-data/de_test_pred.h5ad\")",
   "id": "1a03c46f417c239",
   "outputs": [],
   "execution_count": 2
  },
  {
   "metadata": {
    "ExecuteTime": {
     "end_time": "2024-10-30T20:16:19.625874Z",
     "start_time": "2024-10-30T20:16:19.595426Z"
    }
   },
   "cell_type": "code",
   "source": "preds = ad.read_h5ad(\"../../data/perturbench_data/output/output_mean_across_celltypes.h5ad\")",
   "id": "13db20652565a832",
   "outputs": [],
   "execution_count": 14
  },
  {
   "metadata": {
    "ExecuteTime": {
     "end_time": "2024-10-30T20:28:28.476534Z",
     "start_time": "2024-10-30T20:28:28.472529Z"
    }
   },
   "cell_type": "code",
   "source": [
    "def anndata_to_dataframe(adata, layer_name=\"clipped_sign_log10_pval\"):\n",
    "  import pandas as pd\n",
    "\n",
    "  metadata_cols = ['cell_type', 'sm_name', 'sm_lincs_id', 'SMILES', 'split', 'control']\n",
    "  metadata = adata.obs[metadata_cols].copy()\n",
    "\n",
    "  # turn all category columns to string\n",
    "  for col in metadata.select_dtypes(include=[\"category\"]).columns:\n",
    "      metadata[col] = metadata[col].astype(str)\n",
    "\n",
    "  data = pd.DataFrame(\n",
    "    adata.layers[layer_name],\n",
    "    columns=adata.var_names,\n",
    "    index=adata.obs.index\n",
    "  )\n",
    "\n",
    "  return pd.concat([metadata, data], axis=1).reset_index(drop=True)"
   ],
   "id": "4935861b7a067895",
   "outputs": [],
   "execution_count": 23
  },
  {
   "metadata": {
    "ExecuteTime": {
     "end_time": "2024-10-30T20:52:40.902097Z",
     "start_time": "2024-10-30T20:52:39.136239Z"
    }
   },
   "cell_type": "code",
   "source": [
    "import pandas as pd\n",
    "import anndata as ad\n",
    "\n",
    "## VIASH START\n",
    "par = {\n",
    "  \"de_test_h5ad\": \"/Users/arturszalata/PycharmProjects/task-dge-perturbation-prediction-analysis/data/neurips-2023-data/de_test_pred.h5ad\",\n",
    "  \"layer\": \"clipped_sign_log10_pval\",\n",
    "  \"id_map\": \"/Users/arturszalata/PycharmProjects/task-dge-perturbation-prediction-analysis/data/neurips-2023-data/id_map.csv\",\n",
    "  \"output\": \"/Users/arturszalata/PycharmProjects/task-dge-perturbation-prediction-analysis/data/perturbench_data/output/latent_additive_output.h5ad\",\n",
    "}\n",
    "meta = {\n",
    "    \"functionality_name\": \"latent_additive\",\n",
    "}\n",
    "## VIASH END\n",
    "\n",
    "# Load de_test_h5ad instead of de_train_h5ad\n",
    "de_test_h5ad = ad.read_h5ad(par[\"de_test_h5ad\"])\n",
    "id_map = pd.read_csv(par[\"id_map\"])\n",
    "gene_names = list(de_test_h5ad.var_names)"
   ],
   "id": "bba84d0af3b7f5d6",
   "outputs": [],
   "execution_count": 44
  },
  {
   "metadata": {
    "ExecuteTime": {
     "end_time": "2024-10-30T20:52:40.917970Z",
     "start_time": "2024-10-30T20:52:40.905795Z"
    }
   },
   "cell_type": "code",
   "source": [
    "# Convert de_test_h5ad to a DataFrame using the specified layer\n",
    "de_test = anndata_to_dataframe(de_test_h5ad, par[\"layer\"])"
   ],
   "id": "b81c22a89c71324d",
   "outputs": [],
   "execution_count": 45
  },
  {
   "metadata": {
    "ExecuteTime": {
     "end_time": "2024-10-30T20:52:41.415984Z",
     "start_time": "2024-10-30T20:52:41.404735Z"
    }
   },
   "cell_type": "code",
   "source": [
    "de_test[\"combined_key\"] = de_test[\"cell_type\"].astype(str) + \"_\" + de_test[\"sm_name\"].astype(str)\n",
    "id_map[\"combined_key\"] = id_map[\"cell_type\"].astype(str) + \"_\" + id_map[\"sm_name\"].astype(str)\n",
    "\n",
    "# Filter rows in de_test based on matching combined keys in id_map\n",
    "filtered_data = de_test.set_index(\"combined_key\").loc[id_map[\"combined_key\"]]\n",
    "\n",
    "# Ensure the filtered data aligns with id_map and reset index\n",
    "filtered_data = filtered_data.reset_index(drop=True)"
   ],
   "id": "4c0844f21902f89d",
   "outputs": [],
   "execution_count": 46
  },
  {
   "metadata": {
    "ExecuteTime": {
     "end_time": "2024-10-30T20:52:42.187853Z",
     "start_time": "2024-10-30T20:52:42.046766Z"
    }
   },
   "cell_type": "code",
   "source": [
    "output = ad.AnnData(\n",
    "    layers={\n",
    "        \"prediction\": filtered_data[gene_names].values\n",
    "    },\n",
    "    obs=pd.DataFrame(index=id_map[\"id\"]),\n",
    "    var=pd.DataFrame(index=gene_names),\n",
    "    uns={\n",
    "      \"dataset_id\": de_test_h5ad.uns[\"dataset_id\"],\n",
    "      \"method_id\": meta[\"functionality_name\"]\n",
    "    }\n",
    ")\n",
    "\n",
    "# Save the output to an h5ad file with gzip compression\n",
    "output.write_h5ad(par[\"output\"], compression=\"gzip\")"
   ],
   "id": "f6b542d24d9e4e10",
   "outputs": [
    {
     "name": "stderr",
     "output_type": "stream",
     "text": [
      "/Users/arturszalata/miniconda3/envs/perturbench/lib/python3.10/site-packages/anndata/_core/aligned_df.py:68: ImplicitModificationWarning: Transforming to str index.\n",
      "  warnings.warn(\"Transforming to str index.\", ImplicitModificationWarning)\n"
     ]
    }
   ],
   "execution_count": 47
  },
  {
   "metadata": {
    "ExecuteTime": {
     "end_time": "2024-10-30T20:53:05.698039Z",
     "start_time": "2024-10-30T20:53:05.683194Z"
    }
   },
   "cell_type": "code",
   "source": [
    "mean_scores = ad.read_h5ad(\"../../data/perturbench_data/output/output_scores_mean.h5ad\")\n",
    "la_scores = ad.read_h5ad(\"../../data/perturbench_data/output/output_scores_latent_additive.h5ad\")"
   ],
   "id": "3f1b84f7c4f15842",
   "outputs": [
    {
     "name": "stderr",
     "output_type": "stream",
     "text": [
      "/Users/arturszalata/miniconda3/envs/perturbench/lib/python3.10/site-packages/anndata/_core/aligned_df.py:68: ImplicitModificationWarning: Transforming to str index.\n",
      "  warnings.warn(\"Transforming to str index.\", ImplicitModificationWarning)\n",
      "/Users/arturszalata/miniconda3/envs/perturbench/lib/python3.10/site-packages/anndata/_core/aligned_df.py:68: ImplicitModificationWarning: Transforming to str index.\n",
      "  warnings.warn(\"Transforming to str index.\", ImplicitModificationWarning)\n",
      "/Users/arturszalata/miniconda3/envs/perturbench/lib/python3.10/site-packages/anndata/_core/aligned_df.py:68: ImplicitModificationWarning: Transforming to str index.\n",
      "  warnings.warn(\"Transforming to str index.\", ImplicitModificationWarning)\n",
      "/Users/arturszalata/miniconda3/envs/perturbench/lib/python3.10/site-packages/anndata/_core/aligned_df.py:68: ImplicitModificationWarning: Transforming to str index.\n",
      "  warnings.warn(\"Transforming to str index.\", ImplicitModificationWarning)\n"
     ]
    }
   ],
   "execution_count": 51
  },
  {
   "metadata": {
    "ExecuteTime": {
     "end_time": "2024-10-30T21:07:12.870870Z",
     "start_time": "2024-10-30T21:07:12.861892Z"
    }
   },
   "cell_type": "code",
   "source": "zeros_scores = ad.read_h5ad(\"../../data/perturbench_data/output/output_scores_zeros.h5ad\")",
   "id": "15c02da98fdf9c61",
   "outputs": [
    {
     "name": "stderr",
     "output_type": "stream",
     "text": [
      "/Users/arturszalata/miniconda3/envs/perturbench/lib/python3.10/site-packages/anndata/_core/aligned_df.py:68: ImplicitModificationWarning: Transforming to str index.\n",
      "  warnings.warn(\"Transforming to str index.\", ImplicitModificationWarning)\n",
      "/Users/arturszalata/miniconda3/envs/perturbench/lib/python3.10/site-packages/anndata/_core/aligned_df.py:68: ImplicitModificationWarning: Transforming to str index.\n",
      "  warnings.warn(\"Transforming to str index.\", ImplicitModificationWarning)\n"
     ]
    }
   ],
   "execution_count": 54
  },
  {
   "metadata": {
    "ExecuteTime": {
     "end_time": "2024-10-30T21:07:20.780450Z",
     "start_time": "2024-10-30T21:07:20.777117Z"
    }
   },
   "cell_type": "code",
   "source": "zeros_scores.uns",
   "id": "a6f0afa99d29b9b8",
   "outputs": [
    {
     "data": {
      "text/plain": [
       "{'dataset_id': 'neurips-2023-data',\n",
       " 'method_id': 'zeros',\n",
       " 'metric_ids': array(['mean_rowwise_rmse', 'mean_rowwise_mae'], dtype=object),\n",
       " 'metric_values': array([0.91792511, 0.63508651])}"
      ]
     },
     "execution_count": 55,
     "metadata": {},
     "output_type": "execute_result"
    }
   ],
   "execution_count": 55
  },
  {
   "metadata": {
    "ExecuteTime": {
     "end_time": "2024-10-30T20:53:06.360941Z",
     "start_time": "2024-10-30T20:53:06.356018Z"
    }
   },
   "cell_type": "code",
   "source": "mean_scores.uns",
   "id": "9da9b031b1bae124",
   "outputs": [
    {
     "data": {
      "text/plain": [
       "{'dataset_id': 'neurips-2023-data',\n",
       " 'method_id': 'mean_across_celltypes',\n",
       " 'metric_ids': array(['mean_rowwise_rmse', 'mean_rowwise_mae'], dtype=object),\n",
       " 'metric_values': array([0.89247379, 0.64371648])}"
      ]
     },
     "execution_count": 52,
     "metadata": {},
     "output_type": "execute_result"
    }
   ],
   "execution_count": 52
  },
  {
   "metadata": {
    "ExecuteTime": {
     "end_time": "2024-10-30T20:53:06.597893Z",
     "start_time": "2024-10-30T20:53:06.594004Z"
    }
   },
   "cell_type": "code",
   "source": "la_scores.uns",
   "id": "ea2f111e66f1d0cd",
   "outputs": [
    {
     "data": {
      "text/plain": [
       "{'dataset_id': 'neurips-2023-data',\n",
       " 'method_id': 'latent_additive',\n",
       " 'metric_ids': array(['mean_rowwise_rmse', 'mean_rowwise_mae'], dtype=object),\n",
       " 'metric_values': array([1.16177953, 0.82232145])}"
      ]
     },
     "execution_count": 53,
     "metadata": {},
     "output_type": "execute_result"
    }
   ],
   "execution_count": 53
  },
  {
   "metadata": {},
   "cell_type": "code",
   "outputs": [],
   "execution_count": null,
   "source": "",
   "id": "29e168ff69aac239"
  }
 ],
 "metadata": {
  "kernelspec": {
   "display_name": "perturbench",
   "language": "python",
   "name": "perturbench"
  },
  "language_info": {
   "codemirror_mode": {
    "name": "ipython",
    "version": 2
   },
   "file_extension": ".py",
   "mimetype": "text/x-python",
   "name": "python",
   "nbconvert_exporter": "python",
   "pygments_lexer": "ipython2",
   "version": "2.7.6"
  }
 },
 "nbformat": 4,
 "nbformat_minor": 5
}
